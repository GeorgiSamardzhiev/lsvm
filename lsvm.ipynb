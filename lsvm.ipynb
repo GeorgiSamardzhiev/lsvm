{
 "cells": [
  {
   "cell_type": "code",
   "execution_count": 334,
   "metadata": {},
   "outputs": [],
   "source": [
    "import numpy as np"
   ]
  },
  {
   "cell_type": "code",
   "execution_count": 335,
   "metadata": {},
   "outputs": [],
   "source": [
    "class support_vector_machine:\n",
    "    \n",
    "    def train(self, data):\n",
    "        self.data = data\n",
    "\n",
    "        transforms = [[1,1], [-1,1],[-1,-1],[1,-1]]\n",
    "        opt_dict = {}\n",
    "        all_data = []\n",
    "        \n",
    "        for yi in self.data:\n",
    "            for featureset in self.data[yi]:\n",
    "                for feature in featureset:\n",
    "                    all_data.append(feature)\n",
    "\n",
    "        self.max_feature_value = max(all_data)\n",
    "        self.min_feature_value = min(all_data)\n",
    "        all_data = None        \n",
    "\n",
    "        steps = [self.max_feature_value * 0.1, self.max_feature_value * 0.01, self.max_feature_value * 0.001]\n",
    "\n",
    "        b_range_mult = 5\n",
    "        b_mult = 5\n",
    "        latest_optimum = self.max_feature_value*10\n",
    "\n",
    "        for step in steps:\n",
    "            w = np.array([latest_optimum,latest_optimum])\n",
    "            optimized = False\n",
    "            while not optimized:\n",
    "                for b in np.arange(-1*(self.max_feature_value*b_range_mult),\n",
    "                                   self.max_feature_value*b_range_mult,\n",
    "                                   step*b_mult):\n",
    "                    for transform in transforms:\n",
    "                        w_t = w*transform\n",
    "                        correctly_classified = True\n",
    "                        for yi in self.data:\n",
    "                            for xi in self.data[yi]:\n",
    "                                if yi*(np.dot(w_t,xi)+b) < 1:\n",
    "                                    correctly_classified = False\n",
    "                                    break\n",
    "                            if not correctly_classified:\n",
    "                                break\n",
    "                                    \n",
    "                        if correctly_classified:\n",
    "                            opt_dict[np.linalg.norm(w_t)] = [w_t,b]\n",
    "\n",
    "                if w[0] < 0:\n",
    "                    optimized = True\n",
    "                else:\n",
    "                    w = w - step\n",
    "\n",
    "            norms = sorted([n for n in opt_dict])\n",
    "            optimal_choice = opt_dict[norms[0]]\n",
    "            self.w = optimal_choice[0]\n",
    "            self.b = optimal_choice[1]\n",
    "            latest_optimum = optimal_choice[0][0]+step*2\n",
    "              \n",
    "\n",
    "    def predict(self, features):\n",
    "        return np.sign(np.dot(np.array(features), self.w)+self.b)\n",
    "        "
   ]
  },
  {
   "cell_type": "code",
   "execution_count": 336,
   "metadata": {},
   "outputs": [
    {
     "name": "stdout",
     "output_type": "stream",
     "text": [
      "[0.406 0.406]\n",
      "-3.045000000003114\n"
     ]
    }
   ],
   "source": [
    "svm = support_vector_machine()\n",
    "svm.train(data={-1:np.array([[1,1],[2,3],[-1,2],[0.5,1.7]]),\n",
    "                1:np.array([[5,5],[6,4],[4,7],[4,6]])})\n",
    "\n",
    "#line equation is A*w[0]+B*w[1]+b = 0\n",
    "print(svm.w)\n",
    "print(svm.b)\n"
   ]
  },
  {
   "cell_type": "code",
   "execution_count": 337,
   "metadata": {},
   "outputs": [
    {
     "name": "stdout",
     "output_type": "stream",
     "text": [
      "-1.0\n"
     ]
    }
   ],
   "source": [
    "print(svm.predict([5,2]))"
   ]
  },
  {
   "cell_type": "code",
   "execution_count": 338,
   "metadata": {},
   "outputs": [
    {
     "name": "stdout",
     "output_type": "stream",
     "text": [
      "1.0\n"
     ]
    }
   ],
   "source": [
    "print(svm.predict([0,10]))"
   ]
  },
  {
   "cell_type": "code",
   "execution_count": 339,
   "metadata": {},
   "outputs": [
    {
     "name": "stdout",
     "output_type": "stream",
     "text": [
      "-1.0\n"
     ]
    }
   ],
   "source": [
    "print(svm.predict([0,0]))"
   ]
  },
  {
   "cell_type": "code",
   "execution_count": 340,
   "metadata": {},
   "outputs": [
    {
     "name": "stdout",
     "output_type": "stream",
     "text": [
      "1.0\n"
     ]
    }
   ],
   "source": [
    "print(svm.predict([7,7]))"
   ]
  }
 ],
 "metadata": {
  "kernelspec": {
   "display_name": "Python 3",
   "language": "python",
   "name": "python3"
  },
  "language_info": {
   "codemirror_mode": {
    "name": "ipython",
    "version": 3
   },
   "file_extension": ".py",
   "mimetype": "text/x-python",
   "name": "python",
   "nbconvert_exporter": "python",
   "pygments_lexer": "ipython3",
   "version": "3.7.4"
  }
 },
 "nbformat": 4,
 "nbformat_minor": 2
}
